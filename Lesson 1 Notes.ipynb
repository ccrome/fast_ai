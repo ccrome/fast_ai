{
 "cells": [
  {
   "cell_type": "markdown",
   "metadata": {},
   "source": [
    "##  Jupyter notebook password\n",
    "dl_course\n",
    "\n",
    "## How to switch between theano and tensorflow\n",
    "\n",
    "In file ~/keras/keras.json\n",
    "### Tensorflow:\n",
    "Change image_dim_ordering = \"tf\"\n",
    "backend : \"tensorflow\"\n",
    "\n",
    "### Theano\n",
    "Change image_dim_ordering = \"th\"\n",
    "backend : \"theano\"\n",
    "\n",
    "## Theano switch gpu ->cpu\n",
    "~/theanorc\n",
    "change device=gpu or device = cpu\n"
   ]
  },
  {
   "cell_type": "markdown",
   "metadata": {
    "collapsed": true
   },
   "source": [
    "## Creating a link to a file on the filesystem in Jupyter\n",
    "\n"
   ]
  },
  {
   "cell_type": "code",
   "execution_count": 1,
   "metadata": {
    "collapsed": false
   },
   "outputs": [
    {
     "data": {
      "text/html": [
       "Path (<tt>data/redux/caleb_submit_01.csv</tt>) doesn't exist. It may still be in the process of being generated, or you may have the incorrect path."
      ],
      "text/plain": [
       "/home/ubuntu/nbs/data/redux/caleb_submit_01.csv"
      ]
     },
     "execution_count": 1,
     "metadata": {},
     "output_type": "execute_result"
    }
   ],
   "source": [
    "from IPython.display import FileLink\n",
    "FileLink(\"data/redux/caleb_submit_01.csv\")"
   ]
  },
  {
   "cell_type": "markdown",
   "metadata": {},
   "source": [
    "# Things to look at when analyzing data\n",
    "\n",
    "Take a look at a few things:\n",
    "1. A few correct labels at random\n",
    "2. A frew incorrect labels at random\n",
    "3. The most correct labels of each class\n",
    "4. The most incorrect lablels of each class\n",
    "5. the most uncretain lables\n"
   ]
  },
  {
   "cell_type": "markdown",
   "metadata": {},
   "source": []
  },
  {
   "cell_type": "code",
   "execution_count": null,
   "metadata": {
    "collapsed": true
   },
   "outputs": [],
   "source": [
    "# 1. A few correct labels at random\n",
    "path=\"data/redux/\"\n",
    "batch_size = 64\n",
    "\n",
    "vgg.model.load_weights(path)\n",
    "val_batches, probs = vgg.test(path+'valid', batch_size = batch_size)\n",
    "labels = val_batches.classes\n",
    "filenames = val_batches.filenames\n",
    "probs = probs[:,0]\n",
    "preds = np.round(1-probs)\n",
    "n_view = 4\n",
    "def plots_idx(idx, titles=None):\n",
    "    plots([image.load_img(path + 'valid/'+filenames[i]) for i in idx], titles = titles)\n",
    "    \n",
    "\n",
    "correct = np.where(preds == labels)[0]\n",
    "idx = permutation(correct)[:n_view]\n",
    "plots_idx (idx, probs[idx])\n"
   ]
  }
 ],
 "metadata": {
  "anaconda-cloud": {},
  "kernelspec": {
   "display_name": "Python [conda root]",
   "language": "python",
   "name": "conda-root-py"
  },
  "language_info": {
   "codemirror_mode": {
    "name": "ipython",
    "version": 2
   },
   "file_extension": ".py",
   "mimetype": "text/x-python",
   "name": "python",
   "nbconvert_exporter": "python",
   "pygments_lexer": "ipython2",
   "version": "2.7.12"
  }
 },
 "nbformat": 4,
 "nbformat_minor": 1
}
